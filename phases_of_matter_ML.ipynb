{
  "cells": [
    {
      "cell_type": "code",
      "execution_count": 1,
      "metadata": {
        "id": "CDnpYyzDh27n"
      },
      "outputs": [],
      "source": [
        "#biblioteca\n",
        "import numpy as np\n",
        "import matplotlib.pyplot as plt\n",
        "from numba import jit,njit\n",
        "import pandas as pd\n",
        "import tensorflow as tf\n",
        "from tqdm import tqdm\n"
      ]
    },
    {
      "cell_type": "code",
      "execution_count": 2,
      "metadata": {
        "colab": {
          "base_uri": "https://localhost:8080/",
          "height": 0
        },
        "id": "0bYy4U0xCrK-",
        "outputId": "fa3e707f-77fa-4fe9-bb65-eead5c9f86a5"
      },
      "outputs": [
        {
          "output_type": "stream",
          "name": "stdout",
          "text": [
            "Num GPUs Available:  0\n"
          ]
        }
      ],
      "source": [
        "print(\"Num GPUs Available: \", len(tf.config.list_physical_devices('GPU')))"
      ]
    },
    {
      "cell_type": "markdown",
      "source": [
        "Artigo reproduzido\n",
        "https://www.nature.com/articles/nphys4035.pdf"
      ],
      "metadata": {
        "id": "SnvkLlpUeeNd"
      }
    },
    {
      "cell_type": "markdown",
      "metadata": {
        "id": "9W4C87D3hmU2"
      },
      "source": [
        "# Ising model"
      ]
    },
    {
      "cell_type": "code",
      "execution_count": 3,
      "metadata": {
        "id": "EmVt9UfwFkLo"
      },
      "outputs": [],
      "source": [
        "@njit(parallel=True,fastmath=True,cache=True)\n",
        "def ising_model_optimized(N, steps, J, H, T):\n",
        "    \"\"\" Simulate the Ising model using the Metropolis algorithm with optimizations. \"\"\"\n",
        "    lattice = np.random.choice(np.array([-1, 1]), size=(N, N))\n",
        "\n",
        "    # Precompute exponential values for possible delta_E values\n",
        "    max_delta_E = 2 * (4 * J + H)  # max change in energy when flipping a spin\n",
        "    min_delta_E = -max_delta_E\n",
        "    exp_table = np.exp(np.arange(min_delta_E, max_delta_E + 1, 2) / -T)\n",
        "\n",
        "    for step in range(steps):\n",
        "      # Metropolis algorithm with optimizations\n",
        "      for _ in range(N*N):\n",
        "        i, j = np.random.randint(0, N),np.random.randint(0, N)\n",
        "        S = lattice[i, j]\n",
        "        neighbors = lattice[(i+1)%N, j] + lattice[i, (j+1)%N] + lattice[(i-1)%N, j] + lattice[i, (j-1)%N]#condição de contorno ciclica\n",
        "        dE = 2 * S * (J * neighbors + H)\n",
        "        random_values = np.random.rand()\n",
        "        if dE < 0 or random_values < exp_table[int((dE - min_delta_E) / 2)]:\n",
        "            lattice[i, j] *= -1  # Flip the spin\n",
        "    return lattice\n",
        "\n",
        "# Parameters\n",
        "steps = 1000  # Number of steps in the Monte Carlo simulation\n",
        "J = 1  # Exchange interaction\n",
        "H = 0  # External magnetic field\n",
        "T = 2.5  # Temperature\n",
        "\n",
        "\n",
        "# Run the simulation\n",
        "final_lattice = ising_model_optimized(30, steps, J, H, T)\n"
      ]
    },
    {
      "cell_type": "markdown",
      "metadata": {
        "id": "ti8pj8bFNWT-"
      },
      "source": [
        "# Salvando os dados no pandas"
      ]
    },
    {
      "cell_type": "code",
      "execution_count": 4,
      "metadata": {
        "colab": {
          "base_uri": "https://localhost:8080/",
          "height": 0
        },
        "id": "tHYHIAcJCHFP",
        "outputId": "f1aff990-a638-44f2-d73d-bde715c32653"
      },
      "outputs": [
        {
          "output_type": "stream",
          "name": "stderr",
          "text": [
            "100%|██████████| 1001/1001 [03:53<00:00,  4.29it/s]\n"
          ]
        }
      ],
      "source": [
        "# Parameters\n",
        "steps = 1000  # Number of steps in the Monte Carlo simulation\n",
        "J = 1  # Exchange interaction\n",
        "H = 0  # External magnetic field\n",
        "matrizes=np.empty((1001,2),dtype=object)\n",
        "#parametros\n",
        "L=50\n",
        "for i,T in enumerate(tqdm(np.linspace(1,3.5,1001))):\n",
        "  #ising model\n",
        "  matrizes[i]=([ising_model_optimized(L, steps, J, H, T).flatten(),T])\n",
        "\n",
        "df=pd.DataFrame(matrizes)\n",
        "#df[2]=np.where(df[1]>=2.26,1,0)"
      ]
    },
    {
      "cell_type": "markdown",
      "metadata": {
        "id": "moaXQrMYNcOe"
      },
      "source": [
        "# Separando os dados para treino e teste"
      ]
    },
    {
      "cell_type": "code",
      "execution_count": 5,
      "metadata": {
        "id": "7edFABfj4feW"
      },
      "outputs": [],
      "source": [
        "from sklearn.model_selection import train_test_split\n",
        "\n",
        "#colocando os dados em uma rede\n",
        "X=np.empty((df[0].shape[0],L*L),dtype=np.float32)\n",
        "for i,array in enumerate(df[0]):\n",
        "  X[i]=array\n",
        "#categorizando os dados\n",
        "Y=np.empty((df.shape[0],2),dtype=np.float32)\n",
        "for i,T in enumerate(df[1]):\n",
        "  Y[i]=[0,1] if T>2.26 else [1,0]\n",
        "X_train,X_test,Y_train,Y_test=train_test_split(X,Y,test_size=0.33,shuffle=True)"
      ]
    },
    {
      "cell_type": "markdown",
      "metadata": {
        "id": "q6d8cIgtNjk9"
      },
      "source": [
        "# Construido o Modelo"
      ]
    },
    {
      "cell_type": "code",
      "execution_count": 6,
      "metadata": {
        "colab": {
          "base_uri": "https://localhost:8080/",
          "height": 265
        },
        "id": "ZUljNDm6FgJy",
        "outputId": "7667f3dc-dd27-40c8-94c1-b2d2225ace56"
      },
      "outputs": [
        {
          "output_type": "stream",
          "name": "stderr",
          "text": [
            "/usr/local/lib/python3.11/dist-packages/keras/src/layers/core/input_layer.py:27: UserWarning: Argument `input_shape` is deprecated. Use `shape` instead.\n",
            "  warnings.warn(\n"
          ]
        },
        {
          "output_type": "display_data",
          "data": {
            "text/plain": [
              "\u001b[1mModel: \"sequential\"\u001b[0m\n"
            ],
            "text/html": [
              "<pre style=\"white-space:pre;overflow-x:auto;line-height:normal;font-family:Menlo,'DejaVu Sans Mono',consolas,'Courier New',monospace\"><span style=\"font-weight: bold\">Model: \"sequential\"</span>\n",
              "</pre>\n"
            ]
          },
          "metadata": {}
        },
        {
          "output_type": "display_data",
          "data": {
            "text/plain": [
              "┏━━━━━━━━━━━━━━━━━━━━━━━━━━━━━━━━━━━━━━┳━━━━━━━━━━━━━━━━━━━━━━━━━━━━━┳━━━━━━━━━━━━━━━━━┓\n",
              "┃\u001b[1m \u001b[0m\u001b[1mLayer (type)                        \u001b[0m\u001b[1m \u001b[0m┃\u001b[1m \u001b[0m\u001b[1mOutput Shape               \u001b[0m\u001b[1m \u001b[0m┃\u001b[1m \u001b[0m\u001b[1m        Param #\u001b[0m\u001b[1m \u001b[0m┃\n",
              "┡━━━━━━━━━━━━━━━━━━━━━━━━━━━━━━━━━━━━━━╇━━━━━━━━━━━━━━━━━━━━━━━━━━━━━╇━━━━━━━━━━━━━━━━━┩\n",
              "│ dense (\u001b[38;5;33mDense\u001b[0m)                        │ (\u001b[38;5;45mNone\u001b[0m, \u001b[38;5;34m100\u001b[0m)                 │         \u001b[38;5;34m250,100\u001b[0m │\n",
              "├──────────────────────────────────────┼─────────────────────────────┼─────────────────┤\n",
              "│ dense_1 (\u001b[38;5;33mDense\u001b[0m)                      │ (\u001b[38;5;45mNone\u001b[0m, \u001b[38;5;34m2\u001b[0m)                   │             \u001b[38;5;34m202\u001b[0m │\n",
              "└──────────────────────────────────────┴─────────────────────────────┴─────────────────┘\n"
            ],
            "text/html": [
              "<pre style=\"white-space:pre;overflow-x:auto;line-height:normal;font-family:Menlo,'DejaVu Sans Mono',consolas,'Courier New',monospace\">┏━━━━━━━━━━━━━━━━━━━━━━━━━━━━━━━━━━━━━━┳━━━━━━━━━━━━━━━━━━━━━━━━━━━━━┳━━━━━━━━━━━━━━━━━┓\n",
              "┃<span style=\"font-weight: bold\"> Layer (type)                         </span>┃<span style=\"font-weight: bold\"> Output Shape                </span>┃<span style=\"font-weight: bold\">         Param # </span>┃\n",
              "┡━━━━━━━━━━━━━━━━━━━━━━━━━━━━━━━━━━━━━━╇━━━━━━━━━━━━━━━━━━━━━━━━━━━━━╇━━━━━━━━━━━━━━━━━┩\n",
              "│ dense (<span style=\"color: #0087ff; text-decoration-color: #0087ff\">Dense</span>)                        │ (<span style=\"color: #00d7ff; text-decoration-color: #00d7ff\">None</span>, <span style=\"color: #00af00; text-decoration-color: #00af00\">100</span>)                 │         <span style=\"color: #00af00; text-decoration-color: #00af00\">250,100</span> │\n",
              "├──────────────────────────────────────┼─────────────────────────────┼─────────────────┤\n",
              "│ dense_1 (<span style=\"color: #0087ff; text-decoration-color: #0087ff\">Dense</span>)                      │ (<span style=\"color: #00d7ff; text-decoration-color: #00d7ff\">None</span>, <span style=\"color: #00af00; text-decoration-color: #00af00\">2</span>)                   │             <span style=\"color: #00af00; text-decoration-color: #00af00\">202</span> │\n",
              "└──────────────────────────────────────┴─────────────────────────────┴─────────────────┘\n",
              "</pre>\n"
            ]
          },
          "metadata": {}
        },
        {
          "output_type": "display_data",
          "data": {
            "text/plain": [
              "\u001b[1m Total params: \u001b[0m\u001b[38;5;34m250,302\u001b[0m (977.74 KB)\n"
            ],
            "text/html": [
              "<pre style=\"white-space:pre;overflow-x:auto;line-height:normal;font-family:Menlo,'DejaVu Sans Mono',consolas,'Courier New',monospace\"><span style=\"font-weight: bold\"> Total params: </span><span style=\"color: #00af00; text-decoration-color: #00af00\">250,302</span> (977.74 KB)\n",
              "</pre>\n"
            ]
          },
          "metadata": {}
        },
        {
          "output_type": "display_data",
          "data": {
            "text/plain": [
              "\u001b[1m Trainable params: \u001b[0m\u001b[38;5;34m250,302\u001b[0m (977.74 KB)\n"
            ],
            "text/html": [
              "<pre style=\"white-space:pre;overflow-x:auto;line-height:normal;font-family:Menlo,'DejaVu Sans Mono',consolas,'Courier New',monospace\"><span style=\"font-weight: bold\"> Trainable params: </span><span style=\"color: #00af00; text-decoration-color: #00af00\">250,302</span> (977.74 KB)\n",
              "</pre>\n"
            ]
          },
          "metadata": {}
        },
        {
          "output_type": "display_data",
          "data": {
            "text/plain": [
              "\u001b[1m Non-trainable params: \u001b[0m\u001b[38;5;34m0\u001b[0m (0.00 B)\n"
            ],
            "text/html": [
              "<pre style=\"white-space:pre;overflow-x:auto;line-height:normal;font-family:Menlo,'DejaVu Sans Mono',consolas,'Courier New',monospace\"><span style=\"font-weight: bold\"> Non-trainable params: </span><span style=\"color: #00af00; text-decoration-color: #00af00\">0</span> (0.00 B)\n",
              "</pre>\n"
            ]
          },
          "metadata": {}
        },
        {
          "output_type": "stream",
          "name": "stdout",
          "text": [
            "None\n"
          ]
        }
      ],
      "source": [
        "def build_model(input_shape, num_classes):\n",
        "\n",
        "    # Cria um modelo sequencial\n",
        "    model = tf.keras.Sequential([\n",
        "        # Camada de entrada, especifica o formato de entrada\n",
        "        tf.keras.layers.InputLayer(input_shape=input_shape),\n",
        "        # Primeira camada oculta com 128 neurônios e ativação sigmoid\n",
        "        tf.keras.layers.Dense(100, activation='sigmoid'),\n",
        "        # Camada de saída com função de ativação softmax para classificação multiclasse\n",
        "        tf.keras.layers.Dense(2, activation='sigmoid')\n",
        "    ])\n",
        "    # Compila o modelo\n",
        "    model.compile(\n",
        "        optimizer='Adam',  # Otimizador\n",
        "        loss='BinaryCrossentropy',  # Função de perda para classificação de múltiplas classes\n",
        "        metrics=['accuracy']  # Métrica de avaliação\n",
        "    )\n",
        "    return model\n",
        "\n",
        "def evaluate_model(model, test_data, test_labels):\n",
        "    # Evaluate the model\n",
        "    test_loss, test_accuracy = model.evaluate(test_data, test_labels, verbose=1)\n",
        "    print(f\"Test Loss: {test_loss}\")\n",
        "    print(f\"Test Accuracy: {test_accuracy}\")\n",
        "    return test_loss, test_accuracy\n",
        "# Definição dos parâmetros do modelo\n",
        "input_shape = (L*L,)  # Imagens LxL achatadas\n",
        "num_classes = 2  # Número de classes, por exemplo, para o MNIST\n",
        "\n",
        "# Criação do modelo\n",
        "model = build_model(input_shape, num_classes)\n",
        "print(model.summary())\n"
      ]
    },
    {
      "cell_type": "markdown",
      "metadata": {
        "id": "VezpSUbjNmrd"
      },
      "source": [
        "#Rodando o modelo"
      ]
    },
    {
      "cell_type": "code",
      "execution_count": 7,
      "metadata": {
        "colab": {
          "base_uri": "https://localhost:8080/",
          "height": 1065
        },
        "id": "G2pfku-x6yaj",
        "outputId": "41fd53e3-baa5-4b72-d4b8-16bd20c519d9"
      },
      "outputs": [
        {
          "output_type": "display_data",
          "data": {
            "text/plain": [
              "\u001b[1mModel: \"sequential_1\"\u001b[0m\n"
            ],
            "text/html": [
              "<pre style=\"white-space:pre;overflow-x:auto;line-height:normal;font-family:Menlo,'DejaVu Sans Mono',consolas,'Courier New',monospace\"><span style=\"font-weight: bold\">Model: \"sequential_1\"</span>\n",
              "</pre>\n"
            ]
          },
          "metadata": {}
        },
        {
          "output_type": "display_data",
          "data": {
            "text/plain": [
              "┏━━━━━━━━━━━━━━━━━━━━━━━━━━━━━━━━━━━━━━┳━━━━━━━━━━━━━━━━━━━━━━━━━━━━━┳━━━━━━━━━━━━━━━━━┓\n",
              "┃\u001b[1m \u001b[0m\u001b[1mLayer (type)                        \u001b[0m\u001b[1m \u001b[0m┃\u001b[1m \u001b[0m\u001b[1mOutput Shape               \u001b[0m\u001b[1m \u001b[0m┃\u001b[1m \u001b[0m\u001b[1m        Param #\u001b[0m\u001b[1m \u001b[0m┃\n",
              "┡━━━━━━━━━━━━━━━━━━━━━━━━━━━━━━━━━━━━━━╇━━━━━━━━━━━━━━━━━━━━━━━━━━━━━╇━━━━━━━━━━━━━━━━━┩\n",
              "│ dense_2 (\u001b[38;5;33mDense\u001b[0m)                      │ (\u001b[38;5;45mNone\u001b[0m, \u001b[38;5;34m100\u001b[0m)                 │         \u001b[38;5;34m250,100\u001b[0m │\n",
              "├──────────────────────────────────────┼─────────────────────────────┼─────────────────┤\n",
              "│ dense_3 (\u001b[38;5;33mDense\u001b[0m)                      │ (\u001b[38;5;45mNone\u001b[0m, \u001b[38;5;34m2\u001b[0m)                   │             \u001b[38;5;34m202\u001b[0m │\n",
              "└──────────────────────────────────────┴─────────────────────────────┴─────────────────┘\n"
            ],
            "text/html": [
              "<pre style=\"white-space:pre;overflow-x:auto;line-height:normal;font-family:Menlo,'DejaVu Sans Mono',consolas,'Courier New',monospace\">┏━━━━━━━━━━━━━━━━━━━━━━━━━━━━━━━━━━━━━━┳━━━━━━━━━━━━━━━━━━━━━━━━━━━━━┳━━━━━━━━━━━━━━━━━┓\n",
              "┃<span style=\"font-weight: bold\"> Layer (type)                         </span>┃<span style=\"font-weight: bold\"> Output Shape                </span>┃<span style=\"font-weight: bold\">         Param # </span>┃\n",
              "┡━━━━━━━━━━━━━━━━━━━━━━━━━━━━━━━━━━━━━━╇━━━━━━━━━━━━━━━━━━━━━━━━━━━━━╇━━━━━━━━━━━━━━━━━┩\n",
              "│ dense_2 (<span style=\"color: #0087ff; text-decoration-color: #0087ff\">Dense</span>)                      │ (<span style=\"color: #00d7ff; text-decoration-color: #00d7ff\">None</span>, <span style=\"color: #00af00; text-decoration-color: #00af00\">100</span>)                 │         <span style=\"color: #00af00; text-decoration-color: #00af00\">250,100</span> │\n",
              "├──────────────────────────────────────┼─────────────────────────────┼─────────────────┤\n",
              "│ dense_3 (<span style=\"color: #0087ff; text-decoration-color: #0087ff\">Dense</span>)                      │ (<span style=\"color: #00d7ff; text-decoration-color: #00d7ff\">None</span>, <span style=\"color: #00af00; text-decoration-color: #00af00\">2</span>)                   │             <span style=\"color: #00af00; text-decoration-color: #00af00\">202</span> │\n",
              "└──────────────────────────────────────┴─────────────────────────────┴─────────────────┘\n",
              "</pre>\n"
            ]
          },
          "metadata": {}
        },
        {
          "output_type": "display_data",
          "data": {
            "text/plain": [
              "\u001b[1m Total params: \u001b[0m\u001b[38;5;34m250,302\u001b[0m (977.74 KB)\n"
            ],
            "text/html": [
              "<pre style=\"white-space:pre;overflow-x:auto;line-height:normal;font-family:Menlo,'DejaVu Sans Mono',consolas,'Courier New',monospace\"><span style=\"font-weight: bold\"> Total params: </span><span style=\"color: #00af00; text-decoration-color: #00af00\">250,302</span> (977.74 KB)\n",
              "</pre>\n"
            ]
          },
          "metadata": {}
        },
        {
          "output_type": "display_data",
          "data": {
            "text/plain": [
              "\u001b[1m Trainable params: \u001b[0m\u001b[38;5;34m250,302\u001b[0m (977.74 KB)\n"
            ],
            "text/html": [
              "<pre style=\"white-space:pre;overflow-x:auto;line-height:normal;font-family:Menlo,'DejaVu Sans Mono',consolas,'Courier New',monospace\"><span style=\"font-weight: bold\"> Trainable params: </span><span style=\"color: #00af00; text-decoration-color: #00af00\">250,302</span> (977.74 KB)\n",
              "</pre>\n"
            ]
          },
          "metadata": {}
        },
        {
          "output_type": "display_data",
          "data": {
            "text/plain": [
              "\u001b[1m Non-trainable params: \u001b[0m\u001b[38;5;34m0\u001b[0m (0.00 B)\n"
            ],
            "text/html": [
              "<pre style=\"white-space:pre;overflow-x:auto;line-height:normal;font-family:Menlo,'DejaVu Sans Mono',consolas,'Courier New',monospace\"><span style=\"font-weight: bold\"> Non-trainable params: </span><span style=\"color: #00af00; text-decoration-color: #00af00\">0</span> (0.00 B)\n",
              "</pre>\n"
            ]
          },
          "metadata": {}
        },
        {
          "output_type": "stream",
          "name": "stdout",
          "text": [
            "None\n",
            "Epoch 1/10\n",
            "21/21 - 1s - 66ms/step - accuracy: 0.4701 - loss: 0.7374\n",
            "Epoch 2/10\n",
            "21/21 - 0s - 7ms/step - accuracy: 0.8687 - loss: 0.5458\n",
            "Epoch 3/10\n",
            "21/21 - 0s - 8ms/step - accuracy: 0.9403 - loss: 0.4418\n",
            "Epoch 4/10\n",
            "21/21 - 0s - 14ms/step - accuracy: 0.9687 - loss: 0.3566\n",
            "Epoch 5/10\n",
            "21/21 - 0s - 7ms/step - accuracy: 0.9836 - loss: 0.2835\n",
            "Epoch 6/10\n",
            "21/21 - 0s - 15ms/step - accuracy: 0.9866 - loss: 0.2272\n",
            "Epoch 7/10\n",
            "21/21 - 0s - 8ms/step - accuracy: 0.9881 - loss: 0.1835\n",
            "Epoch 8/10\n",
            "21/21 - 0s - 15ms/step - accuracy: 0.9896 - loss: 0.1453\n",
            "Epoch 9/10\n",
            "21/21 - 0s - 13ms/step - accuracy: 0.9970 - loss: 0.1154\n",
            "Epoch 10/10\n",
            "21/21 - 0s - 7ms/step - accuracy: 1.0000 - loss: 0.0931\n",
            "\u001b[1m11/11\u001b[0m \u001b[32m━━━━━━━━━━━━━━━━━━━━\u001b[0m\u001b[37m\u001b[0m \u001b[1m0s\u001b[0m 5ms/step - accuracy: 0.5794 - loss: 1.3995  \n",
            "Test Loss: 1.2866740226745605\n",
            "Test Accuracy: 0.5921450257301331\n"
          ]
        },
        {
          "output_type": "display_data",
          "data": {
            "text/plain": [
              "<Figure size 640x480 with 1 Axes>"
            ],
            "image/png": "[encoded data removed]"
          },
          "metadata": {}
        }
      ],
      "source": [
        "# Dummy data creation for demonstration\n",
        "num_classes = 2\n",
        "input_shape = (L * L,)\n",
        "num_samples = 1000\n",
        "\n",
        "\n",
        "# Build the model\n",
        "model = build_model(input_shape, num_classes)\n",
        "print(model.summary())\n",
        "\n",
        "# Train the model\n",
        "history = model.fit(X_train.astype('float32'),Y_train.astype('int'),epochs=10,verbose=2)\n",
        "evaluate_model(model, X_test,Y_test)\n",
        "#model.evaluate(X_test,Y_test,verbose=2)\n",
        "\n",
        "# Optionally plot the training results\n",
        "import matplotlib.pyplot as plt\n",
        "\n",
        "plt.plot(history.history['accuracy'], label='Accuracy')\n",
        "plt.plot(history.history['loss'], label='Loss')\n",
        "if 'val_accuracy' in history.history:\n",
        "    plt.plot(history.history['val_accuracy'], label='Validation Accuracy')\n",
        "if 'val_loss' in history.history:\n",
        "    plt.plot(history.history['val_loss'], label='Validation Loss')\n",
        "plt.title('Model Training Metrics')\n",
        "plt.xlabel('Epoch')\n",
        "plt.ylabel('Value')\n",
        "plt.grid(True)\n",
        "plt.legend()\n",
        "plt.show()"
      ]
    }
  ],
  "metadata": {
    "colab": {
      "provenance": []
    },
    "kernelspec": {
      "display_name": "Python 3",
      "name": "python3"
    },
    "language_info": {
      "name": "python"
    }
  },
  "nbformat": 4,
  "nbformat_minor": 0
}